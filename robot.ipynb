{
 "cells": [
  {
   "cell_type": "code",
   "execution_count": 63,
   "metadata": {},
   "outputs": [],
   "source": [
    "import numpy as np\n",
    "from scipy import stats\n",
    "import random\n",
    "import matplotlib.pyplot as plt\n",
    "\n",
    "## Original measurements from assessment 1\n",
    "#X = [1, 1.6, 2.9, 1.3, 1.3, 2.4, 2.5, 1.9, 1.3, 2.3]\n",
    "#X = [0 - x for x in X]\n",
    "#Y = [1.1, 1.2, 3.1, 2.1, 1.5, 3.2, 3.6, 2.3, 1.4, 2.9]\n",
    "\n",
    "# measurements for move by 40cm\n",
    "A = [39.7, 39.8, 39.9, 39.8, 39.9, 39.85, 39.8, 39.95, 39.85, 39.98]\n",
    "B = [0.5, 0.45, 0.2, 0.07, -0.02, -0.02, 0.2, 0.25, 0.35, 0.55]\n",
    "\n",
    "A = [a / np.mean(A) * 40 for a in A] # normalize the values as they should be calibrated in the current design\n",
    "\n",
    "\n",
    "# most recent measurements for end point\n",
    "X = [-0.8, -0.7, -0.3, -0.15, 0.15, 0.25, 0.3, 0.4, 1.2, 0.1]\n",
    "Y = [-0.5, 0.05, 0.1, -0.12, -0.2, 0.07, 0.3, -0.37, 0.55, 0.8]\n",
    "\n",
    "x_target = np.mean(X)\n",
    "y_target = np.mean(Y)\n",
    "\n",
    "R = 16 # distance between centers of motors\n",
    "r = 40 * 2 / (np.pi * R)\n",
    "\n",
    "def displace(curr, distance, angle):\n",
    "    \"\"\"\n",
    "    Note: angle should be in radians\n",
    "    Given a pose (x, y, angle) and a desired transformation, returns the new pose\n",
    "    \n",
    "    Parameters:\n",
    "    curr (float, float, float): position of the robot with reference to the starting position (x, y, angle)\n",
    "    distance (float): distance by which to move\n",
    "    angle (float): angle by which rotate\n",
    "    \n",
    "    returns (float, float, angle): new x,y, angle position\n",
    "    \"\"\"\n",
    "    \n",
    "    R = [[np.cos(angle), -np.sin(angle), distance], [np.sin(angle), np.cos(angle), 0], [0, 0, 1]]\n",
    "    \n",
    "    return np.append(np.matmul(R, [curr[0], curr[1], 1])[:2], curr[2] + angle)\n",
    "\n",
    "def displace_with_noise(curr, distance, angle, e, f, g):\n",
    "    \"\"\"\n",
    "    Note: angle should be in radians\n",
    "    Given a pose (x, y, angle) and a desired transformation, returns the new pose with added random noise.\n",
    "    Note that it does the rotation first, then the forward movement.\n",
    "    Can be used to generate particle distribution. The way it would be used in code would be f.e.:\n",
    "    \n",
    "    def move(distance, particles):\n",
    "        start = get_motor_encoder\n",
    "        target = target_encoder_position\n",
    "        while(enc != target):\n",
    "            curr = get_motor_encoder\n",
    "            d = (curr - start) / (target - start)\n",
    "            curr_particles = [displace_with_noise(p, d * distance, 0, e / d, f / d, g / d) for p in particles]\n",
    "            display(curr_particles)\n",
    "        for in range(len(particles)):\n",
    "            particles[i] = curr_particles[i]\n",
    "    \n",
    "    Parameters:\n",
    "    curr (float, float, float): position of the robot with reference to the starting position (x, y, angle)\n",
    "    distance (float): distance by which to move\n",
    "    angle (float): angle by which rotate\n",
    "    \n",
    "    returns (float, float, angle): new x,y, angle position\n",
    "    \"\"\"\n",
    "    \n",
    "    res = curr.copy()\n",
    "    res[2] = res[2] + angle + random.gauss(0, g)\n",
    "    res[0] = res[0] + (distance + random.gauss(0, e)) * np.cos(res[2])\n",
    "    res[1] = res[1] + (distance + random.gauss(0, e)) * np.cos(res[2])\n",
    "    res[2] = res[2] + random.gauss(0, f)\n",
    "    \n",
    "    return res\n",
    "\n",
    "\n",
    "def move(particles, distance, history, e, f):\n",
    "    for p in particles:\n",
    "        p[0] = p[0] + (distance + random.gauss(0, e)) * np.cos(p[2])\n",
    "        p[1] = p[1] + (distance + random.gauss(0, e)) * np.sin(p[2])\n",
    "        p[2] = p[2] + random.gauss(0, f)\n",
    "    new_particles = [p.copy() for p in particles]\n",
    "    plt.scatter(np.array(particles)[:,0], np.array(particles)[:,1])\n",
    "    history.extend(new_particles)\n",
    "    \n",
    "def rotate(particles, angle, history, g):\n",
    "    for p in particles:\n",
    "        p[0] = p[0]\n",
    "        p[1] = p[1]\n",
    "        p[2] = p[2] + angle + random.gauss(0, g)\n",
    "    new_particles = [p.copy() for p in particles]\n",
    "    history.extend(new_particles)"
   ]
  },
  {
   "cell_type": "code",
   "execution_count": 64,
   "metadata": {},
   "outputs": [
    {
     "data": {
      "image/png": "[encoded data removed]",
      "text/plain": [
       "<Figure size 432x288 with 1 Axes>"
      ]
     },
     "metadata": {
      "needs_background": "light"
     },
     "output_type": "display_data"
    }
   ],
   "source": [
    "e = stats.sem(X) ** 2\n",
    "f = stats.sem(B) ** 2\n",
    "g = 0.01 # more or less half angle, could be calibrated by measuring the angle variance on a 360 rotation\n",
    "NUMBER_OF_PARTICLES = 11\n",
    "history = []\n",
    "particles = [[0, 0, 0] for _ in range(NUMBER_OF_PARTICLES)]\n",
    "for _ in range(4):\n",
    "    for _ in range(4):\n",
    "        move(particles, 10, history, e, f)\n",
    "    rotate(particles, np.pi / 2, history, g)"
   ]
  },
  {
   "cell_type": "code",
   "execution_count": 65,
   "metadata": {},
   "outputs": [
    {
     "name": "stdout",
     "output_type": "stream",
     "text": [
      "0.045000000000000005 0.047982607938088\n",
      "0.06800000000000002 0.013778254788358459\n",
      "0.18279466318492146 0.25115586534988216\n",
      "0.12670876493404515 0.17508075946193621\n"
     ]
    },
    {
     "data": {
      "image/png": "[encoded data removed]",
      "text/plain": [
       "<Figure size 432x288 with 1 Axes>"
      ]
     },
     "metadata": {
      "needs_background": "light"
     },
     "output_type": "display_data"
    }
   ],
   "source": [
    "history = np.array(history)\n",
    "plt.show()\n",
    "print(np.mean(X), np.mean(history[-NUMBER_OF_PARTICLES:, 0]))\n",
    "print(np.mean(Y), np.mean(history[-NUMBER_OF_PARTICLES:, 1]))\n",
    "print(stats.sem(X), stats.sem(history[-NUMBER_OF_PARTICLES:, 0]))\n",
    "print(stats.sem(Y), stats.sem(history[-NUMBER_OF_PARTICLES:, 1]))\n",
    "\n",
    "plt.scatter(history[-NUMBER_OF_PARTICLES:, 0], history[-NUMBER_OF_PARTICLES:, 1])\n",
    "plt.scatter(X, Y)\n",
    "plt.show()"
   ]
  },
  {
   "cell_type": "code",
   "execution_count": null,
   "metadata": {},
   "outputs": [],
   "source": []
  },
  {
   "cell_type": "code",
   "execution_count": null,
   "metadata": {},
   "outputs": [],
   "source": []
  },
  {
   "cell_type": "code",
   "execution_count": null,
   "metadata": {},
   "outputs": [],
   "source": []
  },
  {
   "cell_type": "code",
   "execution_count": null,
   "metadata": {},
   "outputs": [],
   "source": []
  }
 ],
 "metadata": {
  "kernelspec": {
   "display_name": "Python 3",
   "language": "python",
   "name": "python3"
  },
  "language_info": {
   "codemirror_mode": {
    "name": "ipython",
    "version": 3
   },
   "file_extension": ".py",
   "mimetype": "text/x-python",
   "name": "python",
   "nbconvert_exporter": "python",
   "pygments_lexer": "ipython3",
   "version": "3.6.8"
  }
 },
 "nbformat": 4,
 "nbformat_minor": 2
}
