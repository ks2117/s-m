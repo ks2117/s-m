{
 "cells": [
  {
   "cell_type": "code",
   "execution_count": 736,
   "metadata": {},
   "outputs": [],
   "source": [
    "import numpy as np\n",
    "from scipy import stats\n",
    "import random\n",
    "import matplotlib.pyplot as plt\n",
    "\n",
    "X = [1, 1.6, 2.9, 1.3, 1.3, 2.4, 2.5, 1.9, 1.3, 2.3]\n",
    "X = [0 - x for x in X]\n",
    "Y = [1.1, 1.2, 3.1, 2.1, 1.5, 3.2, 3.6, 2.3, 1.4, 2.9]\n",
    "\n",
    "x_target = np.mean(X)\n",
    "y_target = np.mean(Y)\n",
    "\n",
    "R = 16 # distance between centers of motors\n",
    "r = 40 * 2 / (np.pi * R)\n",
    "\n",
    "\n",
    "def move(particles, distance, history, e_m, e_sd, f_m, f_sd):\n",
    "    for p in particles:\n",
    "        p[0] = p[0] + (distance + random.gauss(e_m, e_sd)) * np.cos(p[2])\n",
    "        p[1] = p[1] + (distance + random.gauss(e_m, e_sd)) * np.sin(p[2])\n",
    "        p[2] = p[2] + random.gauss(f_m, f_sd)\n",
    "    new_particles = [p.copy() for p in particles]\n",
    "    plt.scatter(np.array(particles)[:,0], np.array(particles)[:,1])\n",
    "    history.extend(new_particles)\n",
    "    \n",
    "def rotate(particles, angle, history, g_m, g_sd):\n",
    "    for p in particles:\n",
    "        p[0] = p[0]\n",
    "        p[1] = p[1]\n",
    "        p[2] = p[2] + angle + random.gauss(g_m, g_sd)\n",
    "    new_particles = [p.copy() for p in particles]\n",
    "    history.extend(new_particles)"
   ]
  },
  {
   "cell_type": "code",
   "execution_count": 748,
   "metadata": {},
   "outputs": [
    {
     "data": {
      "image/png": "[encoded data removed]",
      "text/plain": [
       "<Figure size 432x288 with 1 Axes>"
      ]
     },
     "metadata": {
      "needs_background": "light"
     },
     "output_type": "display_data"
    },
    {
     "name": "stdout",
     "output_type": "stream",
     "text": [
      "-1.8500000000000003 -1.9576716518805368\n",
      "2.2399999999999998 2.071775026164299\n",
      "0.2034425935955617 0.28423242242527846\n",
      "0.2906697247545552 0.2165363324639747\n"
     ]
    },
    {
     "data": {
      "image/png": "[encoded data removed]",
      "text/plain": [
       "<Figure size 432x288 with 1 Axes>"
      ]
     },
     "metadata": {
      "needs_background": "light"
     },
     "output_type": "display_data"
    }
   ],
   "source": [
    "NUMBER_OF_PARTICLES = 11\n",
    "sd = 0.013\n",
    "history = []\n",
    "particles = [[0, 0, 0] for _ in range(NUMBER_OF_PARTICLES)]\n",
    "for _ in range(4):\n",
    "    for _ in range(4):\n",
    "        move(particles, 10, history, 0, sd / r, 0, 0)\n",
    "    rotate(particles, np.pi / 2, history, -0.025, sd)\n",
    "\n",
    "\n",
    "history = np.array(history)\n",
    "data = {'x': [0 for _ in history],\n",
    "        'y': [0 for _ in history],\n",
    "        'a': [0 for _ in history]}\n",
    "data['x'] = history[-NUMBER_OF_PARTICLES:, 0]\n",
    "data['y'] = history[-NUMBER_OF_PARTICLES:, 1]\n",
    "data['a'] = history[-NUMBER_OF_PARTICLES:, 2]\n",
    "plt.show()\n",
    "print(np.mean(X), np.mean(data['x']))\n",
    "print(np.mean(Y), np.mean(data['y']))\n",
    "print(stats.sem(X), stats.sem(data['x']))\n",
    "print(stats.sem(Y), stats.sem(data['y']))\n",
    "\n",
    "plt.scatter(data['x'], data['y'])\n",
    "plt.scatter(X, Y)\n",
    "plt.show()"
   ]
  },
  {
   "cell_type": "code",
   "execution_count": 750,
   "metadata": {},
   "outputs": [],
   "source": [
    "# measurements for move by 40cm\n",
    "G = [39.7, 39.8, 39.9, 39.8, 39.9, 39.85, 39.8, 39.95, 39.85, 39.98]\n",
    "H = [0.5, 0.45, 0.2, 0.07, -0.02, -0.02, 0.2, 0.25, 0.35, 0.55]"
   ]
  },
  {
   "cell_type": "code",
   "execution_count": 753,
   "metadata": {},
   "outputs": [
    {
     "data": {
      "text/plain": [
       "665.4455122575465"
      ]
     },
     "execution_count": 753,
     "metadata": {},
     "output_type": "execute_result"
    }
   ],
   "source": [
    "40 * 663 / np.mean(G)"
   ]
  },
  {
   "cell_type": "code",
   "execution_count": null,
   "metadata": {},
   "outputs": [],
   "source": [
    "# most recent measurements for end point\n",
    "D = [-0.8, -0.7, -0.3, -0.15, 0.15, 0.25, 0.3, 0.4, 1.2, 0.1]\n",
    "E = [-0.5, 0.05, 0.1, -0.12, -0.2, 0.07, 0.3, -0.37, 0.55, 0.8]"
   ]
  },
  {
   "cell_type": "code",
   "execution_count": null,
   "metadata": {},
   "outputs": [],
   "source": []
  },
  {
   "cell_type": "code",
   "execution_count": null,
   "metadata": {},
   "outputs": [],
   "source": []
  }
 ],
 "metadata": {
  "kernelspec": {
   "display_name": "Python 3",
   "language": "python",
   "name": "python3"
  },
  "language_info": {
   "codemirror_mode": {
    "name": "ipython",
    "version": 3
   },
   "file_extension": ".py",
   "mimetype": "text/x-python",
   "name": "python",
   "nbconvert_exporter": "python",
   "pygments_lexer": "ipython3",
   "version": "3.6.8"
  }
 },
 "nbformat": 4,
 "nbformat_minor": 2
}
