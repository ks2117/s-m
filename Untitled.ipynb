{
 "cells": [
  {
   "cell_type": "code",
   "execution_count": 1,
   "metadata": {},
   "outputs": [],
   "source": [
    "import numpy as np\n",
    "import random\n",
    "def fifo(cache, item, m):\n",
    "    hit = item in cache\n",
    "    if not hit:\n",
    "        cache = cache[1:-1] + [item]\n",
    "    return hit\n",
    "\n",
    "def rand(cache, item, m):\n",
    "    hit = item in cache\n",
    "    if not hit:\n",
    "        ind = random.randint(0, m - 1)\n",
    "    return hit\n",
    "        \n",
    "def poisson(l):\n",
    "    return None\n",
    "        \n",
    "def run_simulation(m, n, policy, duration, batches, warmup):\n",
    "    cache_range = range(m)\n",
    "    cache = [i for i in cache_range]\n",
    "    ls = [1 / i for i in range(1, n + 1)]\n",
    "    arrivals = [0 for l in ls]\n",
    "    enumerate_lambdas = enumerate(ls)\n",
    "    l_sum = sum(ls)\n",
    "    limit_range = range(int(2 * duration * (n * n) * batches + 1))\n",
    "    res = [1 for _ in limit_range]\n",
    "    counter = 0\n",
    "    end = duration + warmup\n",
    "    \n",
    "    for i in range(batches):\n",
    "        # similarly for performance reason we don't want to create\n",
    "        # a whole new arrays but rather reuse whatever we were using\n",
    "        # before. Might change it for multiprocessing though\n",
    "        for j, l in enumerate(ls):\n",
    "            arrivals[j] = np.random.poisson(l)\n",
    "        for j in cache_range:\n",
    "            cache[j] = j\n",
    "            \n",
    "        hits = 0\n",
    "        queries = 0\n",
    "        curr = 0\n",
    "        counter += 1\n",
    "        while(curr < end):\n",
    "            ind = np.argmin(arrivals)\n",
    "            curr = arrivals[ind]\n",
    "            hit = policy(cache, ind, m)\n",
    "            arrivals[ind] = np.random.poisson(ls[ind]) + curr\n",
    "            if (curr >= warmup):\n",
    "                if hit:\n",
    "                    hits += 1\n",
    "                queries += 1\n",
    "                counter += 1\n",
    "                res[counter] = hits / queries\n",
    "        print(queries)\n",
    "    return res, counter"
   ]
  },
  {
   "cell_type": "code",
   "execution_count": 4,
   "metadata": {},
   "outputs": [
    {
     "name": "stdout",
     "output_type": "stream",
     "text": [
      "985\n",
      "760\n",
      "1114\n",
      "1178\n",
      "890\n"
     ]
    }
   ],
   "source": [
    "res, counter = run_simulation(10, 20, fifo, 5, 5, 0)\n",
    "res = np.array(res[:counter])"
   ]
  },
  {
   "cell_type": "code",
   "execution_count": 5,
   "metadata": {},
   "outputs": [
    {
     "data": {
      "image/png": "[encoded data removed]",
      "text/plain": [
       "<Figure size 432x288 with 1 Axes>"
      ]
     },
     "metadata": {
      "needs_background": "light"
     },
     "output_type": "display_data"
    }
   ],
   "source": [
    "import matplotlib.pyplot as plt\n",
    "plt.plot(res)\n",
    "plt.show()"
   ]
  },
  {
   "cell_type": "code",
   "execution_count": 7,
   "metadata": {},
   "outputs": [
    {
     "data": {
      "text/plain": [
       "3.597739657143682"
      ]
     },
     "execution_count": 7,
     "metadata": {},
     "output_type": "execute_result"
    }
   ],
   "source": [
    "sum([1 / (i + 1) for i in range(20)])"
   ]
  },
  {
   "cell_type": "code",
   "execution_count": 72,
   "metadata": {},
   "outputs": [
    {
     "data": {
      "text/plain": [
       "array([0, 0])"
      ]
     },
     "execution_count": 72,
     "metadata": {},
     "output_type": "execute_result"
    }
   ],
   "source": []
  },
  {
   "cell_type": "code",
   "execution_count": null,
   "metadata": {},
   "outputs": [],
   "source": []
  }
 ],
 "metadata": {
  "kernelspec": {
   "display_name": "Python 3",
   "language": "python",
   "name": "python3"
  },
  "language_info": {
   "codemirror_mode": {
    "name": "ipython",
    "version": 3
   },
   "file_extension": ".py",
   "mimetype": "text/x-python",
   "name": "python",
   "nbconvert_exporter": "python",
   "pygments_lexer": "ipython3",
   "version": "3.6.8"
  }
 },
 "nbformat": 4,
 "nbformat_minor": 2
}
