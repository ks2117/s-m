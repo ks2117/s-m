{
 "cells": [
  {
   "cell_type": "code",
   "execution_count": null,
   "metadata": {},
   "outputs": [],
   "source": [
    "def fifo(cache, item, hits, misses):\n",
    "    if(item in cache):\n",
    "        pass\n",
    "    else:\n",
    "        cache = cache[1:-1] + [item]\n",
    "\n",
    "def rand(cache, item, hits, misses):\n",
    "    if(item in cache):\n",
    "        pass\n",
    "    else:\n",
    "        ind = random.randint(0, m - 1)\n",
    "        \n",
    "def poisson(l):\n",
    "    return None\n",
    "        \n",
    "def run_simulation(m, n, policy, time, batches):\n",
    "\n",
    "    cache = [i for i in range(m)]\n",
    "    ls = [1 / i for i in range(1, n + 1)]\n",
    "    arrivals = []\n",
    "    hits = 0\n",
    "    misses = 0\n",
    "    curr = 0\n",
    "    while(curr < time):\n",
    "        "
   ]
  }
 ],
 "metadata": {
  "kernelspec": {
   "display_name": "Python 3",
   "language": "python",
   "name": "python3"
  },
  "language_info": {
   "codemirror_mode": {
    "name": "ipython",
    "version": 3
   },
   "file_extension": ".py",
   "mimetype": "text/x-python",
   "name": "python",
   "nbconvert_exporter": "python",
   "pygments_lexer": "ipython3",
   "version": "3.6.8"
  }
 },
 "nbformat": 4,
 "nbformat_minor": 2
}
